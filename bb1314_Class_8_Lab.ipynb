{
  "cells": [
    {
      "cell_type": "markdown",
      "metadata": {
        "id": "87zFqLlR5Sag"
      },
      "source": [
        "# Diamond Company Analytics Challenge\n",
        "\n",
        "**Time:** 35 minutes\n",
        "\n",
        "**Scenario:** You are the new data analyst at a prestigious diamond company. The CEO has called an urgent meeting and needs answers to critical business questions about the inventory.\n",
        "\n",
        "**Your Mission:** Analyze the diamond inventory data and provide insights to guide strategic decisions."
      ]
    },
    {
      "cell_type": "code",
      "execution_count": 31,
      "metadata": {
        "id": "h3EqF6-25Sag",
        "colab": {
          "base_uri": "https://localhost:8080/"
        },
        "outputId": "79c289e1-dfe8-479d-db10-dc5019da499f"
      },
      "outputs": [
        {
          "output_type": "stream",
          "name": "stdout",
          "text": [
            "Loading diamonds dataset...\n",
            "Dataset loaded successfully!\n"
          ]
        }
      ],
      "source": [
        "import polars as pl\n",
        "\n",
        "# Load the diamonds dataset\n",
        "print(\"Loading diamonds dataset...\")\n",
        "df = pl.read_csv('https://raw.githubusercontent.com/pycaret/pycaret/master/datasets/diamond.csv')\n",
        "print(\"Dataset loaded successfully!\")"
      ]
    },
    {
      "cell_type": "markdown",
      "metadata": {
        "id": "ZnSjPOZI5Sag"
      },
      "source": [
        "## Section 1: Initial Inventory Assessment (5 minutes)\n",
        "\n",
        "The CEO walks in: \"Before we dive into specifics, I need to understand what we're working with. Give me the basics about our inventory database.\""
      ]
    },
    {
      "cell_type": "markdown",
      "metadata": {
        "id": "8EGbX8A85Sag"
      },
      "source": [
        "### Question 1: \"How extensive is our inventory database?\"\n",
        "\n",
        "The CEO needs to know the scale of data you're analyzing."
      ]
    },
    {
      "cell_type": "code",
      "execution_count": 32,
      "metadata": {
        "id": "syk3vNh15Sah",
        "colab": {
          "base_uri": "https://localhost:8080/"
        },
        "outputId": "0fe6609e-6dbf-407d-cb72-d239901936b9"
      },
      "outputs": [
        {
          "output_type": "execute_result",
          "data": {
            "text/plain": [
              "6000"
            ]
          },
          "metadata": {},
          "execution_count": 32
        }
      ],
      "source": [
        "df.height"
      ]
    },
    {
      "cell_type": "markdown",
      "metadata": {
        "id": "lni3Fe8p5Sah"
      },
      "source": [
        "### Question 2: \"What information do we track about each diamond?\"\n",
        "\n",
        "List all the characteristics we record."
      ]
    },
    {
      "cell_type": "code",
      "execution_count": 33,
      "metadata": {
        "id": "cxGl8F3t5Sah",
        "colab": {
          "base_uri": "https://localhost:8080/",
          "height": 255
        },
        "outputId": "bbbcdd82-350a-4b12-dc94-116821fbf503"
      },
      "outputs": [
        {
          "output_type": "execute_result",
          "data": {
            "text/plain": [
              "shape: (5, 8)\n",
              "┌──────────────┬───────┬───────┬─────────┬────────┬──────────┬────────┬───────┐\n",
              "│ Carat Weight ┆ Cut   ┆ Color ┆ Clarity ┆ Polish ┆ Symmetry ┆ Report ┆ Price │\n",
              "│ ---          ┆ ---   ┆ ---   ┆ ---     ┆ ---    ┆ ---      ┆ ---    ┆ ---   │\n",
              "│ f64          ┆ str   ┆ str   ┆ str     ┆ str    ┆ str      ┆ str    ┆ i64   │\n",
              "╞══════════════╪═══════╪═══════╪═════════╪════════╪══════════╪════════╪═══════╡\n",
              "│ 1.1          ┆ Ideal ┆ H     ┆ SI1     ┆ VG     ┆ EX       ┆ GIA    ┆ 5169  │\n",
              "│ 0.83         ┆ Ideal ┆ H     ┆ VS1     ┆ ID     ┆ ID       ┆ AGSL   ┆ 3470  │\n",
              "│ 0.85         ┆ Ideal ┆ H     ┆ SI1     ┆ EX     ┆ EX       ┆ GIA    ┆ 3183  │\n",
              "│ 0.91         ┆ Ideal ┆ E     ┆ SI1     ┆ VG     ┆ VG       ┆ GIA    ┆ 4370  │\n",
              "│ 0.83         ┆ Ideal ┆ G     ┆ SI1     ┆ EX     ┆ EX       ┆ GIA    ┆ 3171  │\n",
              "└──────────────┴───────┴───────┴─────────┴────────┴──────────┴────────┴───────┘"
            ],
            "text/html": [
              "<div><style>\n",
              ".dataframe > thead > tr,\n",
              ".dataframe > tbody > tr {\n",
              "  text-align: right;\n",
              "  white-space: pre-wrap;\n",
              "}\n",
              "</style>\n",
              "<small>shape: (5, 8)</small><table border=\"1\" class=\"dataframe\"><thead><tr><th>Carat Weight</th><th>Cut</th><th>Color</th><th>Clarity</th><th>Polish</th><th>Symmetry</th><th>Report</th><th>Price</th></tr><tr><td>f64</td><td>str</td><td>str</td><td>str</td><td>str</td><td>str</td><td>str</td><td>i64</td></tr></thead><tbody><tr><td>1.1</td><td>&quot;Ideal&quot;</td><td>&quot;H&quot;</td><td>&quot;SI1&quot;</td><td>&quot;VG&quot;</td><td>&quot;EX&quot;</td><td>&quot;GIA&quot;</td><td>5169</td></tr><tr><td>0.83</td><td>&quot;Ideal&quot;</td><td>&quot;H&quot;</td><td>&quot;VS1&quot;</td><td>&quot;ID&quot;</td><td>&quot;ID&quot;</td><td>&quot;AGSL&quot;</td><td>3470</td></tr><tr><td>0.85</td><td>&quot;Ideal&quot;</td><td>&quot;H&quot;</td><td>&quot;SI1&quot;</td><td>&quot;EX&quot;</td><td>&quot;EX&quot;</td><td>&quot;GIA&quot;</td><td>3183</td></tr><tr><td>0.91</td><td>&quot;Ideal&quot;</td><td>&quot;E&quot;</td><td>&quot;SI1&quot;</td><td>&quot;VG&quot;</td><td>&quot;VG&quot;</td><td>&quot;GIA&quot;</td><td>4370</td></tr><tr><td>0.83</td><td>&quot;Ideal&quot;</td><td>&quot;G&quot;</td><td>&quot;SI1&quot;</td><td>&quot;EX&quot;</td><td>&quot;EX&quot;</td><td>&quot;GIA&quot;</td><td>3171</td></tr></tbody></table></div>"
            ]
          },
          "metadata": {},
          "execution_count": 33
        }
      ],
      "source": [
        "df.head()"
      ]
    },
    {
      "cell_type": "markdown",
      "metadata": {
        "id": "PSZC1rDM5Sah"
      },
      "source": [
        "### Question 3: \"When I look at one line in this database, what am I looking at?\"\n",
        "\n",
        "Explain in business terms:"
      ]
    },
    {
      "cell_type": "markdown",
      "metadata": {
        "id": "Xax8yn-G5Sah"
      },
      "source": [
        "**Your answer:** Each row represents (Grain) a specific diamond and its characteristics."
      ]
    },
    {
      "cell_type": "markdown",
      "metadata": {
        "id": "Ia7TO6-s5Sah"
      },
      "source": [
        "## Section 2: Strategic Business Questions (20 minutes)\n",
        "\n",
        "The CEO continues: \"Now let's get to the important questions. Our board meeting is tomorrow and I need concrete numbers.\""
      ]
    },
    {
      "cell_type": "markdown",
      "metadata": {
        "id": "sSOh0XP35Sah"
      },
      "source": [
        "### Question 4: \"We're considering expanding our storage facilities. How many total carats do we have in inventory? I need to know if our vaults can handle the weight.\"\n",
        "\n",
        "Think about what measurement would help answer this."
      ]
    },
    {
      "cell_type": "code",
      "execution_count": 34,
      "metadata": {
        "id": "YYUEHrd45Sah",
        "colab": {
          "base_uri": "https://localhost:8080/"
        },
        "outputId": "98742bda-ce4d-4a37-f5b3-294dca08408f"
      },
      "outputs": [
        {
          "output_type": "stream",
          "name": "stdout",
          "text": [
            "Total carat weight: 8,007.12\n"
          ]
        }
      ],
      "source": [
        "total_carat_weight = df[\"Carat Weight\"].sum()\n",
        "\n",
        "print(f\"Total carat weight: {total_carat_weight:,.2f}\")"
      ]
    },
    {
      "cell_type": "markdown",
      "metadata": {
        "id": "vDhj1c6I5Sah"
      },
      "source": [
        "### Question 5: \"Our new marketing campaign claims we have 'the widest variety of cuts in the industry.' Can you verify this?\"\n",
        "\n",
        "The CEO wants to know about variety, not quantity."
      ]
    },
    {
      "cell_type": "code",
      "execution_count": 35,
      "metadata": {
        "id": "-_xy-_kN5Sah",
        "colab": {
          "base_uri": "https://localhost:8080/"
        },
        "outputId": "f7691c1e-4507-4f24-8120-4875364f51cd"
      },
      "outputs": [
        {
          "output_type": "stream",
          "name": "stdout",
          "text": [
            "We offer 5 different cuts.\n"
          ]
        }
      ],
      "source": [
        "num_cuts = df[\"Cut\"].n_unique()\n",
        "\n",
        "print(f\"We offer {num_cuts} different cuts.\")"
      ]
    },
    {
      "cell_type": "markdown",
      "metadata": {
        "id": "jlqVD2mM5Sah"
      },
      "source": [
        "### Question 6: \"I'm meeting with our insurance company. They need to know our price exposure - what's our most and least valuable diamond?\""
      ]
    },
    {
      "cell_type": "code",
      "execution_count": 36,
      "metadata": {
        "id": "DR8wW1qY5Sah",
        "colab": {
          "base_uri": "https://localhost:8080/"
        },
        "outputId": "b6c0693c-885f-4f2a-9505-22eb042d1886"
      },
      "outputs": [
        {
          "output_type": "stream",
          "name": "stdout",
          "text": [
            "Most valuable diamond: $101,561.00\n",
            "Least valuable diamond: $2,184.00\n"
          ]
        }
      ],
      "source": [
        "min_price = df[\"Price\"].min()\n",
        "max_price = df[\"Price\"].max()\n",
        "\n",
        "print(f\"Most valuable diamond: ${max_price:,.2f}\")\n",
        "print(f\"Least valuable diamond: ${min_price:,.2f}\")\n"
      ]
    },
    {
      "cell_type": "markdown",
      "metadata": {
        "id": "vCX8XRie5Sah"
      },
      "source": [
        "### Question 7: \"Which color grades should we focus on in our premium line? I need typical prices across our color spectrum.\"\n",
        "\n",
        "The CEO wants to understand pricing patterns."
      ]
    },
    {
      "cell_type": "code",
      "execution_count": 37,
      "metadata": {
        "id": "g-UQP2BO5Sai",
        "colab": {
          "base_uri": "https://localhost:8080/"
        },
        "outputId": "78cc8cf0-26c0-42d1-8ba8-a2192fa6a81d"
      },
      "outputs": [
        {
          "output_type": "stream",
          "name": "stdout",
          "text": [
            "shape: (6, 2)\n",
            "┌───────┬──────────────┐\n",
            "│ Color ┆ avg_price    │\n",
            "│ ---   ┆ ---          │\n",
            "│ str   ┆ f64          │\n",
            "╞═══════╪══════════════╡\n",
            "│ H     ┆ 10487.347544 │\n",
            "│ D     ┆ 15255.783661 │\n",
            "│ I     ┆ 8989.636364  │\n",
            "│ F     ┆ 12712.241856 │\n",
            "│ G     ┆ 12520.050633 │\n",
            "│ E     ┆ 11539.190231 │\n",
            "└───────┴──────────────┘\n"
          ]
        }
      ],
      "source": [
        "avg_price_per_color = (\n",
        "    df.group_by(\"Color\")\n",
        "      .agg(pl.col(\"Price\").mean().alias(\"avg_price\"))\n",
        ")\n",
        "\n",
        "print(avg_price_per_color)\n"
      ]
    },
    {
      "cell_type": "markdown",
      "source": [
        "Here is a visual to help contextualize price differences in relation to their color:"
      ],
      "metadata": {
        "id": "YTuWZ3c500uF"
      }
    },
    {
      "cell_type": "code",
      "source": [
        "import matplotlib.pyplot as plt\n",
        "\n",
        "\n",
        "# Group by color and get average price\n",
        "avg_price_per_color = (\n",
        "    df.group_by(\"Color\")\n",
        "      .agg(pl.col(\"Price\").mean().alias(\"avg_price\"))\n",
        "      .sort(\"avg_price\", descending=True)\n",
        ")\n",
        "\n",
        "# Extract data for plotting\n",
        "colors = avg_price_per_color[\"Color\"].to_list()\n",
        "avg_prices = avg_price_per_color[\"avg_price\"].to_list()\n",
        "\n",
        "# Create the bar chart\n",
        "plt.figure(figsize=(8, 5))\n",
        "plt.bar(colors, avg_prices)\n",
        "plt.xlabel(\"Diamond Color\")\n",
        "plt.ylabel(\"Average Price ($)\")\n",
        "plt.title(\"Average Diamond Price by Color\")\n",
        "plt.grid(axis=\"y\", linestyle=\"--\", alpha=0.7)\n",
        "plt.show()\n"
      ],
      "metadata": {
        "colab": {
          "base_uri": "https://localhost:8080/",
          "height": 487
        },
        "id": "t3X3aq040b6U",
        "outputId": "a9332484-e94f-4102-f1e6-24e4178cfc4f"
      },
      "execution_count": 38,
      "outputs": [
        {
          "output_type": "display_data",
          "data": {
            "text/plain": [
              "<Figure size 800x500 with 1 Axes>"
            ],
            "image/png": "[encoded data removed]"
          },
          "metadata": {}
        }
      ]
    },
    {
      "cell_type": "markdown",
      "metadata": {
        "id": "Px3J97Z65Sai"
      },
      "source": [
        "**Reflection:** After analyzing by color, how has your view of the data changed? What does each row in your result represent now?"
      ]
    },
    {
      "cell_type": "markdown",
      "metadata": {
        "id": "pFTu3mSd5Sai"
      },
      "source": [
        "**Your answer:** Now I am looking at the average of all diamonds in each category. New grain = Diamond color with average values across the board."
      ]
    },
    {
      "cell_type": "markdown",
      "metadata": {
        "id": "pWq8Hl445Sai"
      },
      "source": [
        "## Section 3: Advanced Strategic Analysis (10 minutes)\n",
        "\n",
        "The CEO leans forward: \"These next questions will shape our strategy for next year.\""
      ]
    },
    {
      "cell_type": "markdown",
      "metadata": {
        "id": "hrN1J4RH5Sai"
      },
      "source": [
        "### Question 8: \"We're thinking of specializing in certain clarity grades. For our investor deck, I need a complete breakdown showing: how many diamonds we have in each clarity grade, their typical price, and the total carats we're holding for each grade.\""
      ]
    },
    {
      "cell_type": "code",
      "execution_count": 39,
      "metadata": {
        "id": "mfis5Rb35Sai",
        "colab": {
          "base_uri": "https://localhost:8080/"
        },
        "outputId": "5811995c-801e-4082-bd8b-3cb19c1d39de"
      },
      "outputs": [
        {
          "output_type": "stream",
          "name": "stdout",
          "text": [
            "shape: (7, 4)\n",
            "┌─────────┬──────────────┬──────────────┬──────────────┐\n",
            "│ Clarity ┆ num_diamonds ┆ avg_price    ┆ total_carats │\n",
            "│ ---     ┆ ---          ┆ ---          ┆ ---          │\n",
            "│ str     ┆ u32          ┆ f64          ┆ f64          │\n",
            "╞═════════╪══════════════╪══════════════╪══════════════╡\n",
            "│ FL      ┆ 4            ┆ 63776.0      ┆ 7.87         │\n",
            "│ IF      ┆ 219          ┆ 22105.844749 ┆ 316.0        │\n",
            "│ VVS1    ┆ 285          ┆ 16845.680702 ┆ 389.43       │\n",
            "│ VVS2    ┆ 666          ┆ 14142.177177 ┆ 876.58       │\n",
            "│ VS1     ┆ 1192         ┆ 13694.113255 ┆ 1682.74      │\n",
            "│ VS2     ┆ 1575         ┆ 11809.053333 ┆ 2170.81      │\n",
            "│ SI1     ┆ 2059         ┆ 8018.864012  ┆ 2563.69      │\n",
            "└─────────┴──────────────┴──────────────┴──────────────┘\n"
          ]
        },
        {
          "output_type": "stream",
          "name": "stderr",
          "text": [
            "/tmp/ipython-input-3655239935.py:4: DeprecationWarning: `pl.count()` is deprecated. Please use `pl.len()` instead.\n",
            "  pl.count().alias(\"num_diamonds\"),\n"
          ]
        }
      ],
      "source": [
        "clarity_breakdown = (\n",
        "    df.group_by(\"Clarity\")\n",
        "      .agg([\n",
        "          pl.count().alias(\"num_diamonds\"),\n",
        "          pl.col(\"Price\").mean().alias(\"avg_price\"),\n",
        "          pl.col(\"Carat Weight\").sum().alias(\"total_carats\")\n",
        "      ])\n",
        "      .sort(\"avg_price\", descending=True)\n",
        ")\n",
        "\n",
        "print(clarity_breakdown)"
      ]
    },
    {
      "cell_type": "code",
      "source": [
        "x = clarity_breakdown[\"Clarity\"].to_list()\n",
        "total_carats = clarity_breakdown[\"total_carats\"].to_list()\n",
        "avg_price = clarity_breakdown[\"avg_price\"].to_list()\n",
        "\n",
        "# Chart 1: Total Carats by Clarity (inventory mass)\n",
        "plt.figure(figsize=(8,5))\n",
        "plt.bar(x, total_carats)\n",
        "plt.title(\"Total Carats by Clarity\")\n",
        "plt.xlabel(\"Clarity\")\n",
        "plt.ylabel(\"Total Carats\")\n",
        "plt.grid(axis=\"y\", linestyle=\"--\", alpha=0.6)\n",
        "plt.tight_layout()\n",
        "plt.show()\n",
        "\n",
        "# Chart 2: Average Price by Clarity (pricing power)\n",
        "plt.figure(figsize=(8,5))\n",
        "plt.bar(x, avg_price)\n",
        "plt.title(\"Average Price by Clarity\")\n",
        "plt.xlabel(\"Clarity\")\n",
        "plt.ylabel(\"Average Price ($)\")\n",
        "plt.grid(axis=\"y\", linestyle=\"--\", alpha=0.6)\n",
        "plt.tight_layout()\n",
        "plt.show()"
      ],
      "metadata": {
        "colab": {
          "base_uri": "https://localhost:8080/",
          "height": 997
        },
        "id": "HRc981dq3T2y",
        "outputId": "5df68c85-f1d3-4d7f-a242-325c5bc247fa"
      },
      "execution_count": 40,
      "outputs": [
        {
          "output_type": "display_data",
          "data": {
            "text/plain": [
              "<Figure size 800x500 with 1 Axes>"
            ],
            "image/png": "[encoded data removed]"
          },
          "metadata": {}
        },
        {
          "output_type": "display_data",
          "data": {
            "text/plain": [
              "<Figure size 800x500 with 1 Axes>"
            ],
            "image/png": "[encoded data removed]"
          },
          "metadata": {}
        }
      ]
    },
    {
      "cell_type": "markdown",
      "metadata": {
        "id": "t5FNrZls5Sai"
      },
      "source": [
        "### Question 9: \"My luxury competitor claims they have the best prices for every cut-color combination. Show me our pricing structure across these combinations - I want to see where we're competitive.\""
      ]
    },
    {
      "cell_type": "code",
      "execution_count": 41,
      "metadata": {
        "id": "BP-AxKtM5Sai",
        "colab": {
          "base_uri": "https://localhost:8080/"
        },
        "outputId": "d8b8b273-e610-445d-8b4b-b630435f1c6a"
      },
      "outputs": [
        {
          "output_type": "stream",
          "name": "stdout",
          "text": [
            "shape: (30, 3)\n",
            "┌───────────┬───────┬──────────────┐\n",
            "│ Cut       ┆ Color ┆ avg_price    │\n",
            "│ ---       ┆ ---   ┆ ---          │\n",
            "│ str       ┆ str   ┆ f64          │\n",
            "╞═══════════╪═══════╪══════════════╡\n",
            "│ Fair      ┆ D     ┆ 6058.25      │\n",
            "│ Fair      ┆ E     ┆ 5370.625     │\n",
            "│ Fair      ┆ F     ┆ 6063.625     │\n",
            "│ Fair      ┆ G     ┆ 7345.52381   │\n",
            "│ Fair      ┆ H     ┆ 5908.5       │\n",
            "│ …         ┆ …     ┆ …            │\n",
            "│ Very Good ┆ E     ┆ 12101.910217 │\n",
            "│ Very Good ┆ F     ┆ 12413.905495 │\n",
            "│ Very Good ┆ G     ┆ 12354.013841 │\n",
            "│ Very Good ┆ H     ┆ 10056.106132 │\n",
            "│ Very Good ┆ I     ┆ 8930.031332  │\n",
            "└───────────┴───────┴──────────────┘\n"
          ]
        }
      ],
      "source": [
        "cut_color_prices = (\n",
        "    df.group_by([\"Cut\", \"Color\"])\n",
        "      .agg(pl.col(\"Price\").mean().alias(\"avg_price\"))\n",
        "      .sort([\"Cut\", \"Color\"])\n",
        ")\n",
        "\n",
        "print(cut_color_prices)\n"
      ]
    },
    {
      "cell_type": "markdown",
      "metadata": {
        "id": "X0XueWtg5Sai"
      },
      "source": [
        "**Reflection:** How specific is your analysis now? What level of detail does each row represent?"
      ]
    },
    {
      "cell_type": "markdown",
      "metadata": {
        "id": "RjKMDzJD5Sai"
      },
      "source": [
        "**Your answer:** Now our data output is much more specific. New grain = Cut and Color combination with the average stats for each combination to follow."
      ]
    },
    {
      "cell_type": "markdown",
      "metadata": {
        "id": "RCrrW4UQ5Sai"
      },
      "source": [
        "### Question 10: URGENT - \"Our biggest client is interested in purchasing entire inventory segments. They asked: 'Which color-cut combinations represent your highest total inventory value?' Show me the top 5 most valuable inventory segments by total worth, and include how many diamonds are in each segment.\"\n",
        "\n",
        "This is critical for tomorrow's negotiation."
      ]
    },
    {
      "cell_type": "code",
      "execution_count": 42,
      "metadata": {
        "id": "DpAkwFoE5Sai",
        "colab": {
          "base_uri": "https://localhost:8080/"
        },
        "outputId": "55ad2f5c-9f23-4130-a23d-b14e2a3442c4"
      },
      "outputs": [
        {
          "output_type": "stream",
          "name": "stdout",
          "text": [
            "shape: (5, 4)\n",
            "┌───────────┬───────┬──────────────┬─────────────┐\n",
            "│ Cut       ┆ Color ┆ num_diamonds ┆ total_value │\n",
            "│ ---       ┆ ---   ┆ ---          ┆ ---         │\n",
            "│ str       ┆ str   ┆ u32          ┆ i64         │\n",
            "╞═══════════╪═══════╪══════════════╪═════════════╡\n",
            "│ Ideal     ┆ G     ┆ 690          ┆ 9363514     │\n",
            "│ Very Good ┆ G     ┆ 578          ┆ 7140620     │\n",
            "│ Very Good ┆ F     ┆ 455          ┆ 5648327     │\n",
            "│ Ideal     ┆ F     ┆ 363          ┆ 5346782     │\n",
            "│ Ideal     ┆ H     ┆ 458          ┆ 5279687     │\n",
            "└───────────┴───────┴──────────────┴─────────────┘\n"
          ]
        },
        {
          "output_type": "stream",
          "name": "stderr",
          "text": [
            "/tmp/ipython-input-4248948920.py:4: DeprecationWarning: `pl.count()` is deprecated. Please use `pl.len()` instead.\n",
            "  pl.count().alias(\"num_diamonds\"),\n"
          ]
        }
      ],
      "source": [
        "segment_value = (\n",
        "    df.group_by([\"Cut\", \"Color\"])\n",
        "      .agg([\n",
        "          pl.count().alias(\"num_diamonds\"),\n",
        "          pl.col(\"Price\").sum().alias(\"total_value\")\n",
        "      ])\n",
        "      .sort(\"total_value\", descending=True)\n",
        "      .head(5)\n",
        ")\n",
        "print(segment_value)"
      ]
    },
    {
      "cell_type": "markdown",
      "metadata": {
        "id": "elCjxXu25Sai"
      },
      "source": [
        "## Debrief\n",
        "\n",
        "Congratulations! You've just completed your first day as the diamond company's data analyst.\n",
        "\n",
        "Remember:\n",
        "- CEOs speak in business language, not technical terms\n",
        "- Always understand what each row represents before analyzing\n",
        "- Business questions contain clues about which operations to use"
      ]
    }
  ],
  "metadata": {
    "kernelspec": {
      "display_name": "Python 3",
      "language": "python",
      "name": "python3"
    },
    "language_info": {
      "codemirror_mode": {
        "name": "ipython",
        "version": 3
      },
      "file_extension": ".py",
      "mimetype": "text/x-python",
      "name": "python",
      "nbconvert_exporter": "python",
      "pygments_lexer": "ipython3",
      "version": "3.12.0"
    },
    "colab": {
      "provenance": []
    }
  },
  "nbformat": 4,
  "nbformat_minor": 0
}